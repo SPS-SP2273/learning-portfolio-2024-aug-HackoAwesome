{
 "cells": [
  {
   "attachments": {},
   "cell_type": "markdown",
   "id": "123456",
   "metadata": {},
   "source": [
    "<div style=\"text-align:left;font-size:2em\"><span style=\"font-weight:bolder;font-size:1.25em\">SP2273 | Learning Portfolio</span><br><br><span style=\"font-weight:bold;color:darkred\">Functions (Good) Exercises</span></div>"
   ]
  },
  {
   "cell_type": "markdown",
   "id": "cc386b2c-2f71-4600-94bc-3b4e19e54057",
   "metadata": {},
   "source": [
    "Exercise 1"
   ]
  },
  {
   "cell_type": "code",
   "execution_count": 2,
   "id": "04ad8613-e49c-4742-a0a7-7d5746b08760",
   "metadata": {},
   "outputs": [
    {
     "data": {
      "text/plain": [
       "373.15"
      ]
     },
     "execution_count": 2,
     "metadata": {},
     "output_type": "execute_result"
    }
   ],
   "source": [
    "def convert_celsius(temperature_celsius, target_scale):\n",
    "    if target_scale == \"Kelvin\":\n",
    "        return float(temperature_celsius) + 273.15\n",
    "    else:\n",
    "        return (float(temperature_celsius)*9/5)+32\n",
    "convert_celsius(100, \"Kelvin\")"
   ]
  },
  {
   "cell_type": "markdown",
   "id": "3074de5b-9662-4d99-aa8a-c4613f4751db",
   "metadata": {},
   "source": [
    "Exercise 2"
   ]
  },
  {
   "cell_type": "code",
   "execution_count": 2,
   "id": "492e375c-163e-478d-acfb-7bc5e418923f",
   "metadata": {},
   "outputs": [
    {
     "data": {
      "text/plain": [
       "310.9833333333333"
      ]
     },
     "execution_count": 2,
     "metadata": {},
     "output_type": "execute_result"
    }
   ],
   "source": [
    "def convert_fahrenheit(temperature_celsius, target_scale):\n",
    "    if target_scale == \"Kelvin\":\n",
    "        return (float(temperature_celsius)-32)*(5/9)+273.15\n",
    "    else:\n",
    "        return (float(temperature_celsius)-32)*(5/9)\n",
    "\n",
    "convert_fahrenheit(100.1, \"Kelvin\")"
   ]
  },
  {
   "cell_type": "markdown",
   "id": "3d4b15ed-1780-45f5-b574-467f10fe27af",
   "metadata": {},
   "source": [
    "Exercise 3"
   ]
  },
  {
   "cell_type": "code",
   "execution_count": 4,
   "id": "ad0b54f1-7bd4-4d18-8060-f790afb92065",
   "metadata": {},
   "outputs": [
    {
     "data": {
      "text/plain": [
       "-150.14999999999998"
      ]
     },
     "execution_count": 4,
     "metadata": {},
     "output_type": "execute_result"
    }
   ],
   "source": [
    "def convert_temperature(temperature, source_scale, target_scale):\n",
    "    if source_scale.upper() == \"CELSIUS\":\n",
    "        return convert_celsius(temperature, target_scale)\n",
    "    if source_scale.upper() == \"FAHRENHEIT\":\n",
    "        return convert_fahrenheit(temperature, target_scale)\n",
    "    if source_scale.upper() == \"KELVIN\":\n",
    "        if target_scale.upper() == \"CELSIUS\":\n",
    "            return float(temperature) - 273.15\n",
    "        elif target_scale.upper() == \"FAHRENHEIT\":\n",
    "            return (float(temperature)-273.15)\n",
    "\n",
    "convert_temperature(123, \"kelvin\", \"celsius\")"
   ]
  },
  {
   "cell_type": "code",
   "execution_count": null,
   "id": "40b92b53-f50b-4a26-91be-28083bbe49d8",
   "metadata": {},
   "outputs": [],
   "source": []
  }
 ],
 "metadata": {
  "kernelspec": {
   "display_name": "Python 3 (ipykernel)",
   "language": "python",
   "name": "python3"
  },
  "language_info": {
   "codemirror_mode": {
    "name": "ipython",
    "version": 3
   },
   "file_extension": ".py",
   "mimetype": "text/x-python",
   "name": "python",
   "nbconvert_exporter": "python",
   "pygments_lexer": "ipython3",
   "version": "3.12.2"
  },
  "toc": {
   "base_numbering": 1,
   "nav_menu": {},
   "number_sections": true,
   "sideBar": true,
   "skip_h1_title": false,
   "title_cell": "Table of Contents",
   "title_sidebar": "Contents",
   "toc_cell": false,
   "toc_position": {},
   "toc_section_display": true,
   "toc_window_display": false
  },
  "vscode": {
   "interpreter": {
    "hash": "31f2aee4e71d21fbe5cf8b01ff0e069b9275f58929596ceb00d14d90e3e16cd6"
   }
  }
 },
 "nbformat": 4,
 "nbformat_minor": 5
}

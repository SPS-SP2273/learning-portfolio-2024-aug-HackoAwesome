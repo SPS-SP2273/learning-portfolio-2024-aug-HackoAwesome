{
 "cells": [
  {
   "attachments": {},
   "cell_type": "markdown",
   "id": "123456",
   "metadata": {},
   "source": [
    "<div style=\"text-align:left;font-size:2em\"><span style=\"font-weight:bolder;font-size:1.25em\">SP2273 | Learning Portfolio</span><br><br><span style=\"font-weight:bold;color:darkred\">Fundamentals (Good) Exercises</span></div>"
   ]
  },
  {
   "cell_type": "code",
   "execution_count": null,
   "id": "07d893ab-01f3-4fbe-bd53-ca32122ed33b",
   "metadata": {},
   "outputs": [],
   "source": [
    "#Exercise 1\n",
    "#Task 1\n",
    "user_input = input('Please provide me with your name?')\n",
    "print('How you doin', user_input, \"!\")"
   ]
  },
  {
   "cell_type": "code",
   "execution_count": 4,
   "id": "0da447f5-5adb-4694-b2ee-877ff7af5b74",
   "metadata": {},
   "outputs": [
    {
     "name": "stdin",
     "output_type": "stream",
     "text": [
      "Please provide me with your name? 123\n",
      "How old are you? 1123\n"
     ]
    },
    {
     "name": "stdout",
     "output_type": "stream",
     "text": [
      "My name is 123 and I am 1123 years old\n"
     ]
    }
   ],
   "source": [
    "#Task 2\n",
    "name = input('Please provide me with your name?')\n",
    "age = input(\"How old are you?\")\n",
    "print('My name is', name, \"and I am\", age, \"years old\")"
   ]
  },
  {
   "cell_type": "code",
   "execution_count": 18,
   "id": "4816bd5c-5bce-4ee5-9d60-c6f6dd544ef7",
   "metadata": {},
   "outputs": [
    {
     "name": "stdout",
     "output_type": "stream",
     "text": [
      "The value of pi to 2 decimal places is: 3.14\n",
      "The value of pi to 3 decimal places is: 3.142\n",
      "The value of pi to 4 decimal places is: 3.1416\n"
     ]
    }
   ],
   "source": [
    "#Task 3\n",
    "pi = 3.141592653589793\n",
    "print(f'The value of pi to 2 decimal places is: {pi:.2f}')\n",
    "print(f'The value of pi to 3 decimal places is: {pi:.3f}')\n",
    "print(f'The value of pi to 4 decimal places is: {pi:.4f}')"
   ]
  },
  {
   "cell_type": "code",
   "execution_count": 2,
   "id": "9fd0887a-9d2e-478d-b76c-e898b59487df",
   "metadata": {},
   "outputs": [
    {
     "name": "stdout",
     "output_type": "stream",
     "text": [
      "Apple      $ 0.99\n",
      "Banana     $ 0.59\n",
      "Orange     $ 1.29\n"
     ]
    }
   ],
   "source": [
    "#Task 4\n",
    "table = [[\"Apple\", 0.99], [\"Banana\", 0.59], [\"Orange\", 1.29]]\n",
    "for i in table:\n",
    "    print(f'{i[0]:<10} ${i[1]:>5}')"
   ]
  },
  {
   "cell_type": "code",
   "execution_count": 27,
   "id": "41b323d5-cca7-4540-b807-8a8bcc593570",
   "metadata": {},
   "outputs": [
    {
     "name": "stdin",
     "output_type": "stream",
     "text": [
      "What is your grade?: 50\n"
     ]
    },
    {
     "name": "stdout",
     "output_type": "stream",
     "text": [
      "The student's letter grade is: B\n"
     ]
    }
   ],
   "source": [
    "#Exercise 2\n",
    "grade = int(input(\"What is your grade?:\"))\n",
    "if grade < 0 or grade > 100:\n",
    "    print(\"Please enter a valid numerical grade\")\n",
    "elif grade >= 70:\n",
    "    letter = \"A\"\n",
    "    print(\"The student's letter grade is:\", letter)\n",
    "elif grade >= 50:\n",
    "    letter = \"B\"\n",
    "    print(\"The student's letter grade is:\", letter)\n",
    "elif grade >= 35:\n",
    "    letter = \"C\"\n",
    "    print(\"The student's letter grade is:\", letter)\n",
    "else:\n",
    "    letter = \"Fail\"\n",
    "    print(\"The student's letter grade is:\", letter)\n",
    "  "
   ]
  },
  {
   "cell_type": "code",
   "execution_count": 11,
   "id": "fe87415b-6402-4d91-b919-b0847609f1a6",
   "metadata": {},
   "outputs": [
    {
     "name": "stdout",
     "output_type": "stream",
     "text": [
      "120\n",
      "Invalid input\n"
     ]
    }
   ],
   "source": [
    "#Exercise 3\n",
    "def factorial(n):\n",
    "    if n < 0:\n",
    "        return \"Invalid input\"\n",
    "    elif n == 0:\n",
    "        return 1\n",
    "    else:\n",
    "        result = 1\n",
    "        for number in range(1, n+1):\n",
    "            result = result * number\n",
    "        return result\n",
    "\n",
    "\n",
    "print(factorial(5))   # Testing, expected output: 120\n",
    "print(factorial(-1))  # Testing, expected output: Invalid input"
   ]
  },
  {
   "cell_type": "code",
   "execution_count": null,
   "id": "63c7c2b2-4eb9-4f03-b88f-579fbbe0ef0b",
   "metadata": {},
   "outputs": [],
   "source": []
  }
 ],
 "metadata": {
  "kernelspec": {
   "display_name": "Python 3 (ipykernel)",
   "language": "python",
   "name": "python3"
  },
  "language_info": {
   "codemirror_mode": {
    "name": "ipython",
    "version": 3
   },
   "file_extension": ".py",
   "mimetype": "text/x-python",
   "name": "python",
   "nbconvert_exporter": "python",
   "pygments_lexer": "ipython3",
   "version": "3.12.2"
  },
  "toc": {
   "base_numbering": 1,
   "nav_menu": {},
   "number_sections": true,
   "sideBar": true,
   "skip_h1_title": false,
   "title_cell": "Table of Contents",
   "title_sidebar": "Contents",
   "toc_cell": false,
   "toc_position": {},
   "toc_section_display": true,
   "toc_window_display": false
  },
  "vscode": {
   "interpreter": {
    "hash": "31f2aee4e71d21fbe5cf8b01ff0e069b9275f58929596ceb00d14d90e3e16cd6"
   }
  }
 },
 "nbformat": 4,
 "nbformat_minor": 5
}

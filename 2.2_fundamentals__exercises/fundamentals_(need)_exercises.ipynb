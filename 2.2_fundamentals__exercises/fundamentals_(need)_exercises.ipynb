{
 "cells": [
  {
   "attachments": {},
   "cell_type": "markdown",
   "id": "123456",
   "metadata": {},
   "source": [
    "<div style=\"text-align:left;font-size:2em\"><span style=\"font-weight:bolder;font-size:1.25em\">SP2273 | Learning Portfolio</span><br><br><span style=\"font-weight:bold;color:darkred\">Fundamentals (Need) Exercises</span></div>"
   ]
  },
  {
   "cell_type": "markdown",
   "id": "f0a7fd77-a85b-4a0e-a5b3-34e534d267e2",
   "metadata": {},
   "source": [
    "1. Functions\n",
    "\n",
    "1. Python is interpreted\n",
    "\n",
    "1. _Python is sensitive_\n",
    "\n",
    "1. Comments\n",
    "\n",
    "1. = and == are different\n",
    "\n",
    "1. _Use if to make decisions_\n",
    "\n",
    "1. _Indentations are important_\n",
    "\n",
    "1. _Difference between a string and a variable_\n",
    "\n",
    "1. Brackets\n",
    "\n",
    "1. _Packages_\n",
    "\n",
    "1. The dot\n",
    "\n"
   ]
  },
  {
   "cell_type": "code",
   "execution_count": 12,
   "id": "bdbffb1b-e1d8-4aba-9b91-980df438cd33",
   "metadata": {},
   "outputs": [
    {
     "name": "stdout",
     "output_type": "stream",
     "text": [
      "3 4 5.0\n",
      "The history saving thread hit an unexpected error (OperationalError('attempt to write a readonly database')).History will not be written to the database.\n"
     ]
    }
   ],
   "source": [
    "import math\n",
    "x, y = 3, 4\n",
    "z = math.sqrt(x**2 + y**2)\n",
    "print(x, y, z)"
   ]
  },
  {
   "cell_type": "markdown",
   "id": "058bdede-5366-4dd7-b9dc-e41bc539c063",
   "metadata": {},
   "source": [
    "| Discriminant |  Roots | Description|\n",
    "| :--- | :---: | :--- |\n",
    "| 1   |Function |Execute lines of code when you call the function|\n",
    "| 2   | Arguments |The inputs of a functiuon |\n",
    "| 3   | Comments |Annotation on the code that does not change how the code is run|\n",
    "| 4   | Indentations |It is to distinguish between blocks of code.|\n",
    "| 5   | Packages  |A library of more in built functions within python.|\n",
    "| 6   | . |Tells us what what can be accessed|\n",
    "| 7   | : |The start of an indentation|\n",
    "| 8   | []|An empty list|\n",
    "| 9   | [[],[]]|a list with 2 empty lists as its element|\n",
    "| 10  | {} |A empty dictionary|"
   ]
  },
  {
   "cell_type": "code",
   "execution_count": 6,
   "id": "da54e678-44ce-4485-97b7-e413c17ceb71",
   "metadata": {},
   "outputs": [
    {
     "data": {
      "text/plain": [
       "1"
      ]
     },
     "execution_count": 6,
     "metadata": {},
     "output_type": "execute_result"
    }
   ],
   "source": [
    "5/2 #Divdes 5 by 2 to get 2.5\n",
    "7//2 #Divides the number 7 and rounds down the answer to the nearest integer\n",
    "5%2 #Calculates the remainder when 5 divides 2"
   ]
  }
 ],
 "metadata": {
  "kernelspec": {
   "display_name": "Python 3 (ipykernel)",
   "language": "python",
   "name": "python3"
  },
  "language_info": {
   "codemirror_mode": {
    "name": "ipython",
    "version": 3
   },
   "file_extension": ".py",
   "mimetype": "text/x-python",
   "name": "python",
   "nbconvert_exporter": "python",
   "pygments_lexer": "ipython3",
   "version": "3.12.2"
  },
  "toc": {
   "base_numbering": 1,
   "nav_menu": {},
   "number_sections": true,
   "sideBar": true,
   "skip_h1_title": false,
   "title_cell": "Table of Contents",
   "title_sidebar": "Contents",
   "toc_cell": false,
   "toc_position": {},
   "toc_section_display": true,
   "toc_window_display": false
  },
  "vscode": {
   "interpreter": {
    "hash": "31f2aee4e71d21fbe5cf8b01ff0e069b9275f58929596ceb00d14d90e3e16cd6"
   }
  }
 },
 "nbformat": 4,
 "nbformat_minor": 5
}

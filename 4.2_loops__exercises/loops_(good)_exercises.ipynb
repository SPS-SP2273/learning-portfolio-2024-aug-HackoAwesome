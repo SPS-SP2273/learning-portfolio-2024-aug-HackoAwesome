{
 "cells": [
  {
   "attachments": {},
   "cell_type": "markdown",
   "id": "123456",
   "metadata": {},
   "source": [
    "<div style=\"text-align:left;font-size:2em\"><span style=\"font-weight:bolder;font-size:1.25em\">SP2273 | Learning Portfolio</span><br><br><span style=\"font-weight:bold;color:darkred\">Loops (Good) Exercises</span></div>"
   ]
  },
  {
   "cell_type": "markdown",
   "id": "575cb7d4-b64e-41b8-b0b5-ae96aa20e627",
   "metadata": {},
   "source": [
    "Exercise 1"
   ]
  },
  {
   "cell_type": "code",
   "execution_count": 1,
   "id": "aa05a9b2-0802-4c7e-bae1-e93fc91ec4cf",
   "metadata": {},
   "outputs": [
    {
     "name": "stdout",
     "output_type": "stream",
     "text": [
      "[1, 9, 25, 49, 81]\n"
     ]
    }
   ],
   "source": [
    "list1 = []\n",
    "for i in range(10):\n",
    "    if i%2==1:\n",
    "        list1.append(i**2)\n",
    "print(list1)"
   ]
  },
  {
   "cell_type": "markdown",
   "id": "501c5832-efee-45e7-8503-fba5e331e1f2",
   "metadata": {},
   "source": [
    "Exercise 2"
   ]
  },
  {
   "cell_type": "code",
   "execution_count": 2,
   "id": "f1ebc455-6a53-49c4-be8f-67b84dd60ca8",
   "metadata": {},
   "outputs": [
    {
     "name": "stdout",
     "output_type": "stream",
     "text": [
      "[1, 9, 25, 49, 81]\n"
     ]
    }
   ],
   "source": [
    "list1 = [n**2 for n in range(10) if n%2==1]\n",
    "print(list1)"
   ]
  },
  {
   "cell_type": "markdown",
   "id": "37fa8682-4181-46be-89bb-74e93556d996",
   "metadata": {},
   "source": [
    "Exercise 3"
   ]
  },
  {
   "cell_type": "code",
   "execution_count": 3,
   "id": "c661b94d-1153-48da-b1af-5a59b7bfdf62",
   "metadata": {},
   "outputs": [
    {
     "name": "stdout",
     "output_type": "stream",
     "text": [
      "285 ns ± 2.29 ns per loop (mean ± std. dev. of 7 runs, 1,000,000 loops each)\n"
     ]
    }
   ],
   "source": [
    "%%timeit\n",
    "list1 = []\n",
    "for i in range(10):\n",
    "    if i%2==1:\n",
    "        list1.append(i**2)"
   ]
  },
  {
   "cell_type": "code",
   "execution_count": 4,
   "id": "8f3a82f9-9921-41b8-a37b-59b593a5a8d1",
   "metadata": {},
   "outputs": [
    {
     "name": "stdout",
     "output_type": "stream",
     "text": [
      "280 ns ± 2.73 ns per loop (mean ± std. dev. of 7 runs, 1,000,000 loops each)\n"
     ]
    }
   ],
   "source": [
    "%%timeit\n",
    "list1 = [n**2 for n in range(10) if n%2==1]"
   ]
  },
  {
   "cell_type": "markdown",
   "id": "60ada92d-93f4-48b1-aa4d-bd3d7fafbeb7",
   "metadata": {},
   "source": [
    "The cell with the code using list comprehension is faster."
   ]
  },
  {
   "cell_type": "markdown",
   "id": "aa1e1b55-3b8d-4028-97ae-f1f3ac4b3123",
   "metadata": {},
   "source": [
    "Exercise 4"
   ]
  },
  {
   "cell_type": "code",
   "execution_count": 10,
   "id": "c4e9942e-6177-4f1c-9c09-318bd94348e9",
   "metadata": {},
   "outputs": [
    {
     "name": "stdout",
     "output_type": "stream",
     "text": [
      "The number of year it took for the quantity to reduce to half its initial amount is 14\n"
     ]
    }
   ],
   "source": [
    "quantity = 100\n",
    "year = 0\n",
    "while quantity > 50:\n",
    "    quantity = quantity*0.95\n",
    "    year += 1\n",
    "print(f'The number of year it took for the quantity to reduce to half its initial amount is {year}')\n"
   ]
  },
  {
   "cell_type": "markdown",
   "id": "daa19b5d-020f-4348-b347-34697bda99e0",
   "metadata": {},
   "source": [
    "Exercise 5"
   ]
  },
  {
   "cell_type": "code",
   "execution_count": 12,
   "id": "03c10ca9-b253-45e6-82b7-584828905dc2",
   "metadata": {},
   "outputs": [
    {
     "name": "stdout",
     "output_type": "stream",
     "text": [
      "In the year 2016, the increase in CO2 level was 3.410000000000025ppm\n"
     ]
    }
   ],
   "source": [
    "co2_data = [\n",
    "    (2000, 369.55), (2001, 371.14), (2002, 373.28), \n",
    "    (2003, 375.80), (2004, 377.52), (2005, 379.80), \n",
    "    (2006, 381.90), (2007, 383.79), (2008, 385.60), \n",
    "    (2009, 387.43), (2010, 389.90), (2011, 391.65), \n",
    "    (2012, 393.85), (2013, 396.52), (2014, 398.65),\n",
    "    (2015, 400.83), (2016, 404.24), (2017, 406.55), \n",
    "    (2018, 408.52), (2019, 411.44), (2020, 414.24)\n",
    "]\n",
    "\n",
    "for i in range(1, len(co2_data)):\n",
    "    data1 = co2_data[i]\n",
    "    data2 = co2_data[i-1]\n",
    "    if data1[1]-data2[1]>=3:\n",
    "        print(f'In the year {data1[0]}, the increase in CO2 level was {data1[1]-data2[1]}ppm')\n",
    "\n"
   ]
  },
  {
   "cell_type": "code",
   "execution_count": null,
   "id": "3f1817d3-d963-40c8-a7fa-431ecf2b8abb",
   "metadata": {},
   "outputs": [],
   "source": []
  }
 ],
 "metadata": {
  "kernelspec": {
   "display_name": "Python 3 (ipykernel)",
   "language": "python",
   "name": "python3"
  },
  "language_info": {
   "codemirror_mode": {
    "name": "ipython",
    "version": 3
   },
   "file_extension": ".py",
   "mimetype": "text/x-python",
   "name": "python",
   "nbconvert_exporter": "python",
   "pygments_lexer": "ipython3",
   "version": "3.12.2"
  },
  "toc": {
   "base_numbering": 1,
   "nav_menu": {},
   "number_sections": true,
   "sideBar": true,
   "skip_h1_title": false,
   "title_cell": "Table of Contents",
   "title_sidebar": "Contents",
   "toc_cell": false,
   "toc_position": {},
   "toc_section_display": true,
   "toc_window_display": false
  },
  "vscode": {
   "interpreter": {
    "hash": "31f2aee4e71d21fbe5cf8b01ff0e069b9275f58929596ceb00d14d90e3e16cd6"
   }
  }
 },
 "nbformat": 4,
 "nbformat_minor": 5
}

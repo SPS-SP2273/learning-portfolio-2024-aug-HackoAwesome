{
 "cells": [
  {
   "attachments": {},
   "cell_type": "markdown",
   "id": "123456",
   "metadata": {},
   "source": [
    "<div style=\"text-align:left;font-size:2em\"><span style=\"font-weight:bolder;font-size:1.25em\">SP2273 | Learning Portfolio</span><br><br><span style=\"font-weight:bold;color:darkred\">Loops (Need) Exercises</span></div>"
   ]
  },
  {
   "cell_type": "code",
   "execution_count": 3,
   "id": "12f254f8-5435-475f-b1de-20acf7c67065",
   "metadata": {},
   "outputs": [
    {
     "name": "stdout",
     "output_type": "stream",
     "text": [
      " The temperature in celsius is 0, the temperature in fahrenheit is 32.0\n",
      " The temperature in celsius is 5, the temperature in fahrenheit is 41.0\n",
      " The temperature in celsius is 10, the temperature in fahrenheit is 50.0\n",
      " The temperature in celsius is 15, the temperature in fahrenheit is 59.0\n",
      " The temperature in celsius is 20, the temperature in fahrenheit is 68.0\n",
      " The temperature in celsius is 25, the temperature in fahrenheit is 77.0\n",
      " The temperature in celsius is 30, the temperature in fahrenheit is 86.0\n",
      " The temperature in celsius is 35, the temperature in fahrenheit is 95.0\n",
      " The temperature in celsius is 40, the temperature in fahrenheit is 104.0\n",
      " The temperature in celsius is 45, the temperature in fahrenheit is 113.0\n",
      " The temperature in celsius is 50, the temperature in fahrenheit is 122.0\n"
     ]
    }
   ],
   "source": [
    "#Exercise 1\n",
    "def cel_to_fahren(degree):\n",
    "    return (degree*9/5)+32\n",
    "\n",
    "temperatures_celsius = [\n",
    "    0, 5, 10, 15, 20, 25,\n",
    "    30, 35, 40, 45, 50\n",
    "]\n",
    "\n",
    "for temperature in temperatures_celsius:\n",
    "    print(f' The temperature in celsius is {temperature}, the temperature in fahrenheit is {cel_to_fahren(temperature)}')"
   ]
  },
  {
   "cell_type": "code",
   "execution_count": 1,
   "id": "0f81ae06-4549-4e35-b69f-6f7a39571031",
   "metadata": {},
   "outputs": [
    {
     "name": "stdout",
     "output_type": "stream",
     "text": [
      "1 :\t1\t2\t3\t4\t5\t\n",
      "\n",
      "2 :\t2\t4\t6\t8\t10\t\n",
      "\n",
      "3 :\t3\t6\t9\t12\t15\t\n",
      "\n",
      "4 :\t4\t8\t12\t16\t20\t\n",
      "\n",
      "5 :\t5\t10\t15\t20\t25\t\n",
      "\n"
     ]
    }
   ],
   "source": [
    "#Exercise 2\n",
    "for i in [1,2,3,4,5]:\n",
    "    print(str(i) + \" :\", end = \"\\t\")\n",
    "    for x in [1,2,3,4,5]:\n",
    "        print(f'{i*x}', end='\\t')\n",
    "    print('\\n')"
   ]
  },
  {
   "cell_type": "code",
   "execution_count": 13,
   "id": "8b9d66f7-72a0-4d2b-89ed-6dc7bb84afce",
   "metadata": {},
   "outputs": [
    {
     "name": "stdout",
     "output_type": "stream",
     "text": [
      "Experiment 1:  No. of Heads = 6\n",
      "Experiment 2:  No. of Heads = 5\n",
      "Experiment 3:  No. of Heads = 4\n",
      "Experiment 4:  No. of Heads = 4\n",
      "Experiment 5:  No. of Heads = 5\n",
      "Experiment 6:  No. of Heads = 5\n",
      "Experiment 7:  No. of Heads = 2\n",
      "Experiment 8:  No. of Heads = 4\n",
      "Experiment 9:  No. of Heads = 5\n",
      "Experiment 10:  No. of Heads = 6\n"
     ]
    }
   ],
   "source": [
    "#Exercise 3\n",
    "\n",
    "import numpy as np\n",
    "for i in range(10):\n",
    "    experiment = np.random.rand(10)\n",
    "    experiment[experiment >= 0.5] = 1\n",
    "    experiment[experiment < 0.5] = 0\n",
    "    count = np.sum(experiment)\n",
    "    print(f'Experiment {i+1}:  No. of Heads = {int(count)}')"
   ]
  },
  {
   "cell_type": "code",
   "execution_count": null,
   "id": "8d7a252b-90f9-49f2-9af5-4796fac5c76d",
   "metadata": {},
   "outputs": [],
   "source": []
  }
 ],
 "metadata": {
  "kernelspec": {
   "display_name": "Python 3 (ipykernel)",
   "language": "python",
   "name": "python3"
  },
  "language_info": {
   "codemirror_mode": {
    "name": "ipython",
    "version": 3
   },
   "file_extension": ".py",
   "mimetype": "text/x-python",
   "name": "python",
   "nbconvert_exporter": "python",
   "pygments_lexer": "ipython3",
   "version": "3.12.2"
  },
  "toc": {
   "base_numbering": 1,
   "nav_menu": {},
   "number_sections": true,
   "sideBar": true,
   "skip_h1_title": false,
   "title_cell": "Table of Contents",
   "title_sidebar": "Contents",
   "toc_cell": false,
   "toc_position": {},
   "toc_section_display": true,
   "toc_window_display": false
  },
  "vscode": {
   "interpreter": {
    "hash": "31f2aee4e71d21fbe5cf8b01ff0e069b9275f58929596ceb00d14d90e3e16cd6"
   }
  }
 },
 "nbformat": 4,
 "nbformat_minor": 5
}

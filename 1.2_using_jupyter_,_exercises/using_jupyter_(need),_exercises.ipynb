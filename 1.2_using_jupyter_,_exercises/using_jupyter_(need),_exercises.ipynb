{
 "cells": [
  {
   "cell_type": "markdown",
   "id": "b6993674-0ebf-4850-b515-83b5bd67b3a2",
   "metadata": {},
   "source": [
    "# Quadratic Equations\n",
    "\n",
    "## Introduction\n",
    "![](https://upload.wikimedia.org/wikipedia/commons/thumb/f/f8/Polynomialdeg2.svg/300px-Polynomialdeg2.svg.png)\n",
    "\n",
    "(Image from the [Wikipedia page on Quadratic equations](https://en.wikipedia.org/wiki/Quadratic_equation))\n",
    "\n",
    "The general form of a quadratic equation is:\n",
    "\n",
    "$$\n",
    "ax^2 + bx + c = 0\n",
    "$$\n",
    "\n",
    "## Solutions\n",
    "Provided $a \\ne 0$, we can use an elementary algebraic method called [completing the square](https://en.wikipedia.org/wiki/Completing_the_square) to show that a quadratic equation has the following solution:\n",
    "\n",
    "$$\n",
    "x = \\frac{-b \\pm \\sqrt{b^2 - 4ac}}{2a}\n",
    "$$\n",
    "\n",
    "## Discriminant\n",
    "The quantity $\\triangle = b^2 -4ac$ is called the **discriminant** of the equation and decides the nature of its solutions. The table below shows the various possibilities.\n",
    "\n",
    "|Discriminant|Roots|\n",
    "|:---:|:---|\n",
    "|$\\triangle = b^2 -4ac = 0$|A single solution of $-b/(2a)$|\n",
    "|$\\triangle = b^2 -4ac \\gt 0$|Two distinct solutions|\n",
    "|$\\triangle = b^2 -4ac \\lt 0$|No real solutions; both are complex|"
   ]
  },
  {
   "cell_type": "markdown",
   "id": "7464bb77-3bc8-4f35-8075-e20f55dee16b",
   "metadata": {},
   "source": [
    "1. A Git repository is a software that records down all the changes that you make to your code\n",
    "2. Git keeps tracks of changes in the files in our repository.\n",
    "3. Commit is when you tell Git which file changes you want to be recorded and you can type a brief description to the changes you want recorded.\n",
    "4. Push is when the changes you have recorded locally get uploaded onto GitHub.\n",
    "5. Pull is when you want to the changes made on GitHub to be updated on your local device."
   ]
  },
  {
   "cell_type": "markdown",
   "id": "3ea67adc-11ff-44f8-abec-31d7e715ac6c",
   "metadata": {},
   "source": [
    "$$\n",
    "\\mu = \\frac{1}{n} \\sum_{i=1}^{n} x_i\n",
    "$$\n",
    "\n",
    "$$\n",
    "\\sigma = \\sqrt{\\frac{1}{n} \\sum_{i=1}^{n} (x_i - \\mu)^2}\n",
    "$$\n",
    "\n",
    "$$\n",
    "r = \\frac{ \\sum_{i=1}^{n} (x_i - \\mu X)(y_i - \\mu Y) }{ \\sqrt{\\sum_{i=1}^{n}(x_i - \\mu X)^2 \\sum_{i=1}^{n}(y_i - \\mu Y)^2}}\n",
    "$$"
   ]
  }
 ],
 "metadata": {
  "kernelspec": {
   "display_name": "Python 3 (ipykernel)",
   "language": "python",
   "name": "python3"
  },
  "language_info": {
   "codemirror_mode": {
    "name": "ipython",
    "version": 3
   },
   "file_extension": ".py",
   "mimetype": "text/x-python",
   "name": "python",
   "nbconvert_exporter": "python",
   "pygments_lexer": "ipython3",
   "version": "3.12.2"
  },
  "toc": {
   "base_numbering": 1,
   "nav_menu": {},
   "number_sections": true,
   "sideBar": true,
   "skip_h1_title": false,
   "title_cell": "Table of Contents",
   "title_sidebar": "Contents",
   "toc_cell": false,
   "toc_position": {},
   "toc_section_display": true,
   "toc_window_display": false
  },
  "vscode": {
   "interpreter": {
    "hash": "31f2aee4e71d21fbe5cf8b01ff0e069b9275f58929596ceb00d14d90e3e16cd6"
   }
  }
 },
 "nbformat": 4,
 "nbformat_minor": 5
}

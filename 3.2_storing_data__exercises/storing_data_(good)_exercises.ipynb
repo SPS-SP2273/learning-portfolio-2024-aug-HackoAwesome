{
 "cells": [
  {
   "attachments": {},
   "cell_type": "markdown",
   "id": "059af19c-0545-443c-a3af-3f95a64ef43f",
   "metadata": {},
   "source": [
    "# <div style=\"text-align:left;font-size:2em\"><span style=\"font-weight:bolder;font-size:1.25em\">SP2273 | Learning Portfolio</span><br><br><span style=\"font-weight:bold;color:darkred\">Storing Data (Good) Exercises</span></div> "
   ]
  },
  {
   "cell_type": "markdown",
   "id": "7bc18503-be6b-4dce-9add-dffce7f1e1a8",
   "metadata": {},
   "source": [
    "Exercise 1"
   ]
  },
  {
   "cell_type": "markdown",
   "id": "d758e551-bd48-4180-9fbd-13c1395ae3a3",
   "metadata": {},
   "source": [
    "|Term | Brief description |\n",
    "|:--- | :---: |\n",
    "|Subsetting|It is when you choose a portion of the list/array|\n",
    "|Indexing |It is when you choose a specific element from a list/array using the element's index|\n",
    "|Slicing |You cut out a portion of the list/array from a specific index to another|\n",
    "|Masking|You apply a condition for each element in the list individually, to change its value or to remove those that do not satify the condition|"
   ]
  },
  {
   "cell_type": "markdown",
   "id": "f9493f2c-9ec4-4069-b2eb-31ff79e47e52",
   "metadata": {},
   "source": [
    "Exercise 2"
   ]
  },
  {
   "cell_type": "code",
   "execution_count": 7,
   "id": "e2585ec6-5d94-4960-8447-857f779ddea7",
   "metadata": {},
   "outputs": [
    {
     "name": "stdout",
     "output_type": "stream",
     "text": [
      "['A' 'C' 'E' 'G' 'I']\n"
     ]
    }
   ],
   "source": [
    "import numpy as np\n",
    "np_array_2d = np.array([[1, \"A\"], [3, \"C\"], [2, \"B\"], [4, \"D\"],\n",
    "                        [5, \"E\"], [7, \"G\"], [6, \"F\"], [8, \"H\"],\n",
    "                        [10, \"J\"], [9, \"I\"]])\n",
    "numbers = np_array_2d[:, 0].astype(int)\n",
    "remainder = numbers%2\n",
    "count = remainder==1\n",
    "odd_pair = np_array_2d[count] \n",
    "odd_letter = odd_pair[:, 1]\n",
    "print(odd_letter)"
   ]
  },
  {
   "cell_type": "code",
   "execution_count": 11,
   "id": "9497dee1-6153-402f-ad2d-8a494f7e93c2",
   "metadata": {},
   "outputs": [
    {
     "name": "stdout",
     "output_type": "stream",
     "text": [
      "[[ 1  0  1 -1 -1]\n",
      " [ 1 -1  1 -1 -1]\n",
      " [ 1 -1 -1  1 -1]\n",
      " [-1  1  1 -1 -1]\n",
      " [ 1 -1  1 -1  1]]\n"
     ]
    }
   ],
   "source": [
    "#Exercise 3\n",
    "import numpy as np\n",
    "array = np.array([[66, 50, 57, -1, -1],\n",
    " [92, -1, 88, -1, -1],\n",
    " [75, -1, -1, 76, -1],\n",
    " [-1, 51, 87, -1, -1],\n",
    " [71, -1, 67, -1, 69]])\n",
    "\n",
    "less = array<50\n",
    "less_int = -1*less.astype(int)\n",
    "more = array>50\n",
    "more_int = more.astype(int)\n",
    "result = less_int + more_int\n",
    "print(result)"
   ]
  },
  {
   "cell_type": "code",
   "execution_count": null,
   "id": "d49d15c5-9474-4d24-ad07-ef0868a8bac8",
   "metadata": {},
   "outputs": [],
   "source": []
  }
 ],
 "metadata": {
  "kernelspec": {
   "display_name": "Python 3 (ipykernel)",
   "language": "python",
   "name": "python3"
  },
  "language_info": {
   "codemirror_mode": {
    "name": "ipython",
    "version": 3
   },
   "file_extension": ".py",
   "mimetype": "text/x-python",
   "name": "python",
   "nbconvert_exporter": "python",
   "pygments_lexer": "ipython3",
   "version": "3.12.2"
  },
  "toc": {
   "base_numbering": 1,
   "nav_menu": {},
   "number_sections": true,
   "sideBar": true,
   "skip_h1_title": false,
   "title_cell": "Table of Contents",
   "title_sidebar": "Contents",
   "toc_cell": false,
   "toc_position": {},
   "toc_section_display": true,
   "toc_window_display": false
  },
  "vscode": {
   "interpreter": {
    "hash": "31f2aee4e71d21fbe5cf8b01ff0e069b9275f58929596ceb00d14d90e3e16cd6"
   }
  }
 },
 "nbformat": 4,
 "nbformat_minor": 5
}

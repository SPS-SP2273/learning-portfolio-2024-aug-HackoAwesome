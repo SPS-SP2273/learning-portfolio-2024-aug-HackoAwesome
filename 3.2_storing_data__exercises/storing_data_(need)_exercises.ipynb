{
 "cells": [
  {
   "attachments": {},
   "cell_type": "markdown",
   "id": "123456",
   "metadata": {},
   "source": [
    "<div style=\"text-align:left;font-size:2em\"><span style=\"font-weight:bolder;font-size:1.25em\">SP2273 | Learning Portfolio</span><br><br><span style=\"font-weight:bold;color:darkred\">Storing Data (Need) Exercises</span></div>"
   ]
  },
  {
   "cell_type": "markdown",
   "id": "030e42b3-1e41-4d0e-a279-118ff41ac5fd",
   "metadata": {},
   "source": [
    "#Exercise 1\n",
    "1. Similarity: Both lists and arrays contains multiple elements. To access a particular element in a list or array, you can use the index of the element for both list and array.\n",
    "2. Differences: The elemnts of a list can be of the same data type but the elements of a array must be of the same data type. When you apply mathematical functions on list and arrays, the output is different for list and arrays.\n",
    "3. A dictionary contains keys and its associated values seperated by :."
   ]
  },
  {
   "cell_type": "code",
   "execution_count": 3,
   "id": "872391fb-2c5c-4670-9754-ccd5d9585303",
   "metadata": {},
   "outputs": [
    {
     "name": "stdout",
     "output_type": "stream",
     "text": [
      "a1\n",
      "c3\n",
      "e5\n",
      "g7\n",
      "i9\n"
     ]
    }
   ],
   "source": [
    "#Exercise 2\n",
    "\n",
    "py_list = [\"a1\", \"b2\", \"c3\", \"d4\", \"e5\", \"f6\", \"g7\", \"h8\", \"i9\", \"j10\"]\n",
    "for i in range(len(py_list)):\n",
    "    if i%2 == 0:\n",
    "        print(py_list[i])"
   ]
  },
  {
   "cell_type": "code",
   "execution_count": 1,
   "id": "8e3e7c9a-ba73-4be2-bcff-3bb09eb7a1bb",
   "metadata": {},
   "outputs": [
    {
     "name": "stdout",
     "output_type": "stream",
     "text": [
      "Boron\n",
      "Boron\n"
     ]
    }
   ],
   "source": [
    "#Exercise 3\n",
    "\n",
    "elements = ['Hydrogen',\n",
    "            'Helium', 'Lithium',\n",
    "            'Beryllium', 'Boron', 'Carbon',\n",
    "            'Nitrogen', 'Oxygen',\n",
    "            'Fluorine',\n",
    "            'Neon']\n",
    "\n",
    "print(elements[4])\n",
    "print(elements[-6])"
   ]
  },
  {
   "cell_type": "code",
   "execution_count": 6,
   "id": "3107894b-8daf-4fd5-ac71-2378892ea218",
   "metadata": {},
   "outputs": [
    {
     "name": "stdout",
     "output_type": "stream",
     "text": [
      "9\n"
     ]
    }
   ],
   "source": [
    "#Exercise 4\n",
    "import numpy as np\n",
    "numbers=[45, 60, 1, 30, 96, 1, 96, 57, 16, 1,\n",
    "        99, 62, 86, 43, 42, 60, 59, 1, 1, 35,\n",
    "        83, 47, 34, 28, 68, 23, 22, 92, 1, 79,\n",
    "        1, 29, 94, 72, 46, 47, 1, 74, 32, 20,\n",
    "        8, 37, 35, 1, 89, 29, 86, 19, 43, 61]\n",
    "numbers_2 = np.array([numbers])\n",
    "count = numbers_2==1\n",
    "print(count.sum())"
   ]
  },
  {
   "cell_type": "code",
   "execution_count": 20,
   "id": "451ba397-42e8-4836-9e52-7a661d0c529e",
   "metadata": {},
   "outputs": [
    {
     "name": "stdout",
     "output_type": "stream",
     "text": [
      "38.5\n",
      "302.5\n",
      "32.41990129534635\n",
      "326.0893282522444\n",
      "0.9871796626270701\n",
      "[[1.         0.98717966]\n",
      " [0.98717966 1.        ]]\n"
     ]
    }
   ],
   "source": [
    "#Exercise 5\n",
    "import numpy as np\n",
    "x_1 = [1, 4, 9, 16, 25, 36, 49, 64, 81, 100]\n",
    "x_2 = [1, 8, 27, 64, 125, 216, 343, 512, 729, 1000]\n",
    "\n",
    "X_1 = np.array(x_1)\n",
    "X_2 = np.array(x_2)\n",
    "\n",
    "x1_mean = np.mean(X_1)\n",
    "print(x1_mean)\n",
    "x2_mean = np.mean(X_2)\n",
    "print(x2_mean)\n",
    "\n",
    "x1_std = np.std(X_1)\n",
    "print(x1_std)\n",
    "x2_std = np.std(X_2)\n",
    "print(x2_std)\n",
    "\n",
    "x1 = X_1 - x1_mean\n",
    "x2 = X_2 - x2_mean\n",
    "\n",
    "x12 = x1*x2\n",
    "n1 = len(x1)\n",
    "n2 = len(x2)\n",
    "\n",
    "coefficent = (np.sum(x12))/(x1_std*x2_std*np.sqrt(n1*n2))\n",
    "print(coefficent) #prints out the pearson correlation coefficent\n",
    "\n",
    "print(np.corrcoef(x_1, x_2))\n",
    "\n",
    "#np.corrcoeff out puts a 2x2 matrix. The top right and bottom left elements are equal in value to the value I calculated. \n",
    "#This is because the top right calculates the correlation coefficent of x_1 and x_2 while the bottom left calculates the correlation coefficent of x_2 and x_1\n",
    "#the other 2 values calculate the correlation coeeficent of x_1 and x_2 and x_2 and x_1. Therefore, the value is 1"
   ]
  },
  {
   "cell_type": "code",
   "execution_count": null,
   "id": "d7a9b03d-438f-4ab8-a4e7-b592feaaecf3",
   "metadata": {},
   "outputs": [],
   "source": []
  }
 ],
 "metadata": {
  "kernelspec": {
   "display_name": "Python 3 (ipykernel)",
   "language": "python",
   "name": "python3"
  },
  "language_info": {
   "codemirror_mode": {
    "name": "ipython",
    "version": 3
   },
   "file_extension": ".py",
   "mimetype": "text/x-python",
   "name": "python",
   "nbconvert_exporter": "python",
   "pygments_lexer": "ipython3",
   "version": "3.12.2"
  },
  "toc": {
   "base_numbering": 1,
   "nav_menu": {},
   "number_sections": true,
   "sideBar": true,
   "skip_h1_title": false,
   "title_cell": "Table of Contents",
   "title_sidebar": "Contents",
   "toc_cell": false,
   "toc_position": {},
   "toc_section_display": true,
   "toc_window_display": false
  },
  "vscode": {
   "interpreter": {
    "hash": "31f2aee4e71d21fbe5cf8b01ff0e069b9275f58929596ceb00d14d90e3e16cd6"
   }
  }
 },
 "nbformat": 4,
 "nbformat_minor": 5
}

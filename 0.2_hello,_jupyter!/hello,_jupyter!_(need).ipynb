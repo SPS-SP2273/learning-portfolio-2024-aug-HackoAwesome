{
 "cells": [
  {
   "attachments": {},
   "cell_type": "markdown",
   "id": "123456",
   "metadata": {},
   "source": [
    "<div style=\"text-align:left;font-size:2em\"><span style=\"font-weight:bolder;font-size:1.25em\">SP2273 | Learning Portfolio</span><br><br><span style=\"font-weight:bold;color:darkred\">Hello, Jupyter! (Need)</span></div>"
   ]
  },
  {
   "attachments": {},
   "cell_type": "markdown",
   "id": "ef3bc759",
   "metadata": {},
   "source": [
    "# 1 Jupyter, who?"
   ]
  },
  {
   "attachments": {},
   "cell_type": "markdown",
   "id": "58d463c9",
   "metadata": {},
   "source": [
    "# 2 Anaconda & Miniconda"
   ]
  },
  {
   "attachments": {},
   "cell_type": "markdown",
   "id": "1a95e28c",
   "metadata": {},
   "source": [
    "## 2.1 Download & install Miniconda"
   ]
  },
  {
   "attachments": {},
   "cell_type": "markdown",
   "id": "4bec1a70",
   "metadata": {},
   "source": [
    "# 3 Hello Command prompt"
   ]
  },
  {
   "attachments": {},
   "cell_type": "markdown",
   "id": "c65fafa8",
   "metadata": {},
   "source": [
    "## 3.1 What is the command prompt"
   ]
  },
  {
   "attachments": {},
   "cell_type": "markdown",
   "id": "de32aee0",
   "metadata": {},
   "source": [
    "## 3.2 Opening the prompt"
   ]
  },
  {
   "attachments": {},
   "cell_type": "markdown",
   "id": "d4e9d8aa",
   "metadata": {},
   "source": [
    "## 3.3 Navigate using the prompt"
   ]
  },
  {
   "attachments": {},
   "cell_type": "markdown",
   "id": "e508823a",
   "metadata": {},
   "source": [
    "## 3.4 Using the prompt with conda"
   ]
  },
  {
   "attachments": {},
   "cell_type": "markdown",
   "id": "ddc5bbd8",
   "metadata": {},
   "source": [
    "# 4 Installing Jupyter and other stuff"
   ]
  },
  {
   "attachments": {},
   "cell_type": "markdown",
   "id": "2b2e91ef",
   "metadata": {},
   "source": [
    "## 4.1 Jupyter… the first run"
   ]
  },
  {
   "attachments": {},
   "cell_type": "markdown",
   "id": "48d4a204",
   "metadata": {},
   "source": [
    "## Footnotes"
   ]
  }
 ],
 "metadata": {
  "kernelspec": {
   "display_name": "Python 3 (ipykernel)",
   "language": "python",
   "name": "python3"
  },
  "language_info": {
   "codemirror_mode": {
    "name": "ipython",
    "version": 3
   },
   "file_extension": ".py",
   "mimetype": "text/x-python",
   "name": "python",
   "nbconvert_exporter": "python",
   "pygments_lexer": "ipython3",
   "version": "3.12.2"
  },
  "toc": {
   "base_numbering": 1,
   "nav_menu": {},
   "number_sections": true,
   "sideBar": true,
   "skip_h1_title": false,
   "title_cell": "Table of Contents",
   "title_sidebar": "Contents",
   "toc_cell": false,
   "toc_position": {},
   "toc_section_display": true,
   "toc_window_display": false
  },
  "vscode": {
   "interpreter": {
    "hash": "31f2aee4e71d21fbe5cf8b01ff0e069b9275f58929596ceb00d14d90e3e16cd6"
   }
  }
 },
 "nbformat": 4,
 "nbformat_minor": 5
}
